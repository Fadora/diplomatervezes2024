{
  "nbformat": 4,
  "nbformat_minor": 0,
  "metadata": {
    "colab": {
      "provenance": [],
      "authorship_tag": "ABX9TyO86xMYHDGxqvSaihHf5FaU",
      "include_colab_link": true
    },
    "kernelspec": {
      "name": "python3",
      "display_name": "Python 3"
    },
    "language_info": {
      "name": "python"
    }
  },
  "cells": [
    {
      "cell_type": "markdown",
      "metadata": {
        "id": "view-in-github",
        "colab_type": "text"
      },
      "source": [
        "<a href=\"https://colab.research.google.com/github/Fadora/diplomatervezes2024/blob/main/mnist_digitNN.ipynb\" target=\"_parent\"><img src=\"https://colab.research.google.com/assets/colab-badge.svg\" alt=\"Open In Colab\"/></a>"
      ]
    },
    {
      "cell_type": "code",
      "execution_count": null,
      "metadata": {
        "colab": {
          "base_uri": "https://localhost:8080/"
        },
        "id": "P1PEmWyOsX4T",
        "outputId": "f56a4504-60ba-46ec-ca9d-dff7ea46e981"
      },
      "outputs": [
        {
          "output_type": "execute_result",
          "data": {
            "text/plain": [
              "device(type='cpu')"
            ]
          },
          "metadata": {},
          "execution_count": 3
        }
      ],
      "source": [
        "import torch\n",
        "#device configuration\n",
        "device = torch.device('cuda' if torch.cuda.is_available() else 'cpu')\n",
        "device\n"
      ]
    },
    {
      "cell_type": "code",
      "source": [
        "from torchvision import datasets\n",
        "from torchvision.transforms import ToTensor\n",
        "\n",
        "train_data = datasets.MNIST(\n",
        "    root = 'data',\n",
        "    train = True,\n",
        "    transform = ToTensor(),\n",
        "    download = True,\n",
        ")\n",
        "\n",
        "test_data = datasets.MNIST(\n",
        "    root = 'data',\n",
        "    train = False,\n",
        "    transform = ToTensor()\n",
        ")\n"
      ],
      "metadata": {
        "id": "KyatuW5ft9Rn",
        "colab": {
          "base_uri": "https://localhost:8080/"
        },
        "outputId": "5e99091c-275f-4ac2-9484-1ecc815466d9"
      },
      "execution_count": null,
      "outputs": [
        {
          "output_type": "stream",
          "name": "stdout",
          "text": [
            "Downloading http://yann.lecun.com/exdb/mnist/train-images-idx3-ubyte.gz\n",
            "Downloading http://yann.lecun.com/exdb/mnist/train-images-idx3-ubyte.gz to data/MNIST/raw/train-images-idx3-ubyte.gz\n"
          ]
        },
        {
          "output_type": "stream",
          "name": "stderr",
          "text": [
            "100%|██████████| 9912422/9912422 [00:00<00:00, 111120733.30it/s]"
          ]
        },
        {
          "output_type": "stream",
          "name": "stdout",
          "text": [
            "Extracting data/MNIST/raw/train-images-idx3-ubyte.gz to data/MNIST/raw\n"
          ]
        },
        {
          "output_type": "stream",
          "name": "stderr",
          "text": [
            "\n"
          ]
        },
        {
          "output_type": "stream",
          "name": "stdout",
          "text": [
            "\n",
            "Downloading http://yann.lecun.com/exdb/mnist/train-labels-idx1-ubyte.gz\n",
            "Downloading http://yann.lecun.com/exdb/mnist/train-labels-idx1-ubyte.gz to data/MNIST/raw/train-labels-idx1-ubyte.gz\n"
          ]
        },
        {
          "output_type": "stream",
          "name": "stderr",
          "text": [
            "100%|██████████| 28881/28881 [00:00<00:00, 17495045.32it/s]\n"
          ]
        },
        {
          "output_type": "stream",
          "name": "stdout",
          "text": [
            "Extracting data/MNIST/raw/train-labels-idx1-ubyte.gz to data/MNIST/raw\n",
            "\n",
            "Downloading http://yann.lecun.com/exdb/mnist/t10k-images-idx3-ubyte.gz\n",
            "Downloading http://yann.lecun.com/exdb/mnist/t10k-images-idx3-ubyte.gz to data/MNIST/raw/t10k-images-idx3-ubyte.gz\n"
          ]
        },
        {
          "output_type": "stream",
          "name": "stderr",
          "text": [
            "100%|██████████| 1648877/1648877 [00:00<00:00, 92723720.22it/s]"
          ]
        },
        {
          "output_type": "stream",
          "name": "stdout",
          "text": [
            "Extracting data/MNIST/raw/t10k-images-idx3-ubyte.gz to data/MNIST/raw\n"
          ]
        },
        {
          "output_type": "stream",
          "name": "stderr",
          "text": [
            "\n"
          ]
        },
        {
          "output_type": "stream",
          "name": "stdout",
          "text": [
            "\n",
            "Downloading http://yann.lecun.com/exdb/mnist/t10k-labels-idx1-ubyte.gz\n",
            "Downloading http://yann.lecun.com/exdb/mnist/t10k-labels-idx1-ubyte.gz to data/MNIST/raw/t10k-labels-idx1-ubyte.gz\n"
          ]
        },
        {
          "output_type": "stream",
          "name": "stderr",
          "text": [
            "100%|██████████| 4542/4542 [00:00<00:00, 10702544.25it/s]\n"
          ]
        },
        {
          "output_type": "stream",
          "name": "stdout",
          "text": [
            "Extracting data/MNIST/raw/t10k-labels-idx1-ubyte.gz to data/MNIST/raw\n",
            "\n"
          ]
        }
      ]
    },
    {
      "cell_type": "code",
      "source": [
        "import matplotlib.pyplot as plt\n",
        "plt.imshow(train_data.data[0], cmap = 'gray')\n",
        "plt.title('%i' % train_data.targets[0])\n",
        "plt.show()"
      ],
      "metadata": {
        "colab": {
          "base_uri": "https://localhost:8080/",
          "height": 452
        },
        "id": "xMUV92gOxcpI",
        "outputId": "1840f4ab-3366-4a0f-a4db-9af0cc8f5f4f"
      },
      "execution_count": null,
      "outputs": [
        {
          "output_type": "display_data",
          "data": {
            "text/plain": [
              "<Figure size 640x480 with 1 Axes>"
            ],
            "image/png": "[encoded data removed]"
          },
          "metadata": {}
        }
      ]
    },
    {
      "cell_type": "code",
      "source": [
        "figure = plt.figure(figsize=(10, 8))\n",
        "cols, rows = 5, 5\n",
        "for i in range(1, cols * rows + 1):\n",
        "    sample_idx = torch.randint(len(train_data), size=(1,)).item()\n",
        "    img, label = train_data[sample_idx]\n",
        "    figure.add_subplot(rows, cols, i)\n",
        "    plt.title(label)\n",
        "    plt.axis(\"off\")\n",
        "    plt.imshow(img.squeeze(), cmap=\"gray\")\n",
        "plt.show()"
      ],
      "metadata": {
        "colab": {
          "base_uri": "https://localhost:8080/",
          "height": 675
        },
        "id": "9sSiwb6gx4RE",
        "outputId": "569c9634-3acd-436b-c7d6-9f43bdbaa56c"
      },
      "execution_count": null,
      "outputs": [
        {
          "output_type": "display_data",
          "data": {
            "text/plain": [
              "<Figure size 1000x800 with 25 Axes>"
            ],
            "image/png": "[encoded data removed]"
          },
          "metadata": {}
        }
      ]
    },
    {
      "cell_type": "code",
      "source": [
        "from torch.utils.data import DataLoader\n",
        "\n",
        "loaders = {\n",
        "    'train' : torch.utils.data.DataLoader(train_data,\n",
        "                                          batch_size=100,\n",
        "                                          shuffle=True,\n",
        "                                          num_workers=1),\n",
        "    'test' : torch.utils.data.DataLoader(test_data,\n",
        "                                         batch_size=100,\n",
        "                                         shuffle=True,\n",
        "                                         num_workers=1),\n",
        "}"
      ],
      "metadata": {
        "id": "N_v1X2gBz49D"
      },
      "execution_count": null,
      "outputs": []
    },
    {
      "cell_type": "code",
      "source": [
        "import torch.nn as nn\n",
        "\n",
        "class CNN(nn.Module):\n",
        "  def __init__(self):\n",
        "    super(CNN, self).__init__()\n",
        "\n",
        "    self.conv1 = nn.Sequential(\n",
        "        nn.Conv2d(\n",
        "            in_channels=1,\n",
        "            out_channels=16,\n",
        "            kernel_size=5,\n",
        "            stride=1,\n",
        "            padding=2,\n",
        "        ),\n",
        "        nn.ReLU(),\n",
        "        nn.MaxPool2d(kernel_size=2),\n",
        "    )\n",
        "\n",
        "    self.conv2 = nn.Sequential(\n",
        "        nn.Conv2d(16, 32, 5, 1, 2),\n",
        "        nn.ReLU(),\n",
        "        nn.MaxPool2d(2),\n",
        "    )\n",
        "\n",
        "    # fully connected layer, output 10 classes? whatever that means?\n",
        "    self.out = nn.Linear(32 * 7 * 7, 10)\n",
        "\n",
        "  def forward(self, x):\n",
        "    x = self.conv1(x)\n",
        "    x = self.conv2(x)\n",
        "\n",
        "    #flatten the output of conv2 to (batch_size, 32* 7 * 7)\n",
        "    x = x.view(x.size(0), -1)\n",
        "    output = self.out(x)\n",
        "    return output, x\n",
        "\n"
      ],
      "metadata": {
        "id": "-e3DoLBW0dzF"
      },
      "execution_count": null,
      "outputs": []
    },
    {
      "cell_type": "code",
      "source": [
        "cnn = CNN()\n",
        "print(cnn)"
      ],
      "metadata": {
        "colab": {
          "base_uri": "https://localhost:8080/"
        },
        "id": "V1xm59cf219R",
        "outputId": "788a046a-8ff0-4904-dbd0-4c570f4efa09"
      },
      "execution_count": null,
      "outputs": [
        {
          "output_type": "stream",
          "name": "stdout",
          "text": [
            "CNN(\n",
            "  (conv1): Sequential(\n",
            "    (0): Conv2d(1, 16, kernel_size=(5, 5), stride=(1, 1), padding=(2, 2))\n",
            "    (1): ReLU()\n",
            "    (2): MaxPool2d(kernel_size=2, stride=2, padding=0, dilation=1, ceil_mode=False)\n",
            "  )\n",
            "  (conv2): Sequential(\n",
            "    (0): Conv2d(16, 32, kernel_size=(5, 5), stride=(1, 1), padding=(2, 2))\n",
            "    (1): ReLU()\n",
            "    (2): MaxPool2d(kernel_size=2, stride=2, padding=0, dilation=1, ceil_mode=False)\n",
            "  )\n",
            "  (out): Linear(in_features=1568, out_features=10, bias=True)\n",
            ")\n"
          ]
        }
      ]
    },
    {
      "cell_type": "code",
      "source": [
        "loss_func = nn.CrossEntropyLoss()\n",
        "loss_func"
      ],
      "metadata": {
        "colab": {
          "base_uri": "https://localhost:8080/"
        },
        "id": "-YqodapA3noy",
        "outputId": "8721b99a-2d66-4400-9ba4-609405977bc9"
      },
      "execution_count": null,
      "outputs": [
        {
          "output_type": "execute_result",
          "data": {
            "text/plain": [
              "CrossEntropyLoss()"
            ]
          },
          "metadata": {},
          "execution_count": 10
        }
      ]
    },
    {
      "cell_type": "code",
      "source": [
        "from torch import optim\n",
        "optimizer = optim.Adam(cnn.parameters(), lr = 0.01)\n",
        "optimizer"
      ],
      "metadata": {
        "colab": {
          "base_uri": "https://localhost:8080/"
        },
        "id": "KNroOJ9s3uUC",
        "outputId": "7768ddc6-9eba-4efa-8f2e-5c988cdd1c19"
      },
      "execution_count": null,
      "outputs": [
        {
          "output_type": "execute_result",
          "data": {
            "text/plain": [
              "Adam (\n",
              "Parameter Group 0\n",
              "    amsgrad: False\n",
              "    betas: (0.9, 0.999)\n",
              "    capturable: False\n",
              "    differentiable: False\n",
              "    eps: 1e-08\n",
              "    foreach: None\n",
              "    fused: None\n",
              "    lr: 0.01\n",
              "    maximize: False\n",
              "    weight_decay: 0\n",
              ")"
            ]
          },
          "metadata": {},
          "execution_count": 11
        }
      ]
    },
    {
      "cell_type": "code",
      "source": [
        "from torch.autograd import Variable\n",
        "num_epochs = 10\n",
        "def train(num_epochs, cnn, loaders):\n",
        "\n",
        "    cnn.train()\n",
        "\n",
        "    # Train the model\n",
        "    total_step = len(loaders['train'])\n",
        "\n",
        "    for epoch in range(num_epochs):\n",
        "        for i, (images, labels) in enumerate(loaders['train']):\n",
        "            # gives batch data, normalize x when iterate train_loader\n",
        "            b_x = Variable(images)   # batch x\n",
        "            b_y = Variable(labels)   # batch y\n",
        "            output = cnn(b_x)[0]\n",
        "            loss = loss_func(output, b_y)\n",
        "\n",
        "            # clear gradients for this training step\n",
        "            optimizer.zero_grad()\n",
        "\n",
        "            # backpropagation, compute gradients\n",
        "            loss.backward()\n",
        "            # apply gradients\n",
        "            optimizer.step()\n",
        "\n",
        "            if (i+1) % 100 == 0:\n",
        "                        print ('Epoch [{}/{}], Step [{}/{}], Loss: {:.4f}'\n",
        "                              .format(epoch + 1, num_epochs, i + 1, total_step, loss.item()))\n",
        "            pass\n",
        "\n",
        "        pass\n",
        "\n",
        "    pass\n",
        "train(num_epochs, cnn, loaders)"
      ],
      "metadata": {
        "colab": {
          "base_uri": "https://localhost:8080/"
        },
        "id": "VQEAhEVz388d",
        "outputId": "c3c453f0-39f3-4f76-d292-fb3ad66528dd"
      },
      "execution_count": null,
      "outputs": [
        {
          "output_type": "stream",
          "name": "stdout",
          "text": [
            "Epoch [1/10], Step [100/600], Loss: 0.0598\n",
            "Epoch [1/10], Step [200/600], Loss: 0.1013\n",
            "Epoch [1/10], Step [300/600], Loss: 0.1201\n",
            "Epoch [1/10], Step [400/600], Loss: 0.1102\n",
            "Epoch [1/10], Step [500/600], Loss: 0.0465\n",
            "Epoch [1/10], Step [600/600], Loss: 0.2066\n",
            "Epoch [2/10], Step [100/600], Loss: 0.0309\n",
            "Epoch [2/10], Step [200/600], Loss: 0.1515\n",
            "Epoch [2/10], Step [300/600], Loss: 0.0313\n",
            "Epoch [2/10], Step [400/600], Loss: 0.0421\n",
            "Epoch [2/10], Step [500/600], Loss: 0.0152\n",
            "Epoch [2/10], Step [600/600], Loss: 0.0234\n",
            "Epoch [3/10], Step [100/600], Loss: 0.0512\n",
            "Epoch [3/10], Step [200/600], Loss: 0.0863\n",
            "Epoch [3/10], Step [300/600], Loss: 0.0375\n",
            "Epoch [3/10], Step [400/600], Loss: 0.0030\n",
            "Epoch [3/10], Step [500/600], Loss: 0.0141\n",
            "Epoch [3/10], Step [600/600], Loss: 0.0060\n",
            "Epoch [4/10], Step [100/600], Loss: 0.0178\n",
            "Epoch [4/10], Step [200/600], Loss: 0.0114\n",
            "Epoch [4/10], Step [300/600], Loss: 0.1018\n",
            "Epoch [4/10], Step [400/600], Loss: 0.0313\n",
            "Epoch [4/10], Step [500/600], Loss: 0.0155\n",
            "Epoch [4/10], Step [600/600], Loss: 0.1234\n",
            "Epoch [5/10], Step [100/600], Loss: 0.0125\n",
            "Epoch [5/10], Step [200/600], Loss: 0.0065\n",
            "Epoch [5/10], Step [300/600], Loss: 0.0173\n",
            "Epoch [5/10], Step [400/600], Loss: 0.0513\n",
            "Epoch [5/10], Step [500/600], Loss: 0.0419\n",
            "Epoch [5/10], Step [600/600], Loss: 0.1279\n",
            "Epoch [6/10], Step [100/600], Loss: 0.0113\n",
            "Epoch [6/10], Step [200/600], Loss: 0.0477\n",
            "Epoch [6/10], Step [300/600], Loss: 0.0080\n",
            "Epoch [6/10], Step [400/600], Loss: 0.0020\n",
            "Epoch [6/10], Step [500/600], Loss: 0.0119\n",
            "Epoch [6/10], Step [600/600], Loss: 0.0620\n",
            "Epoch [7/10], Step [100/600], Loss: 0.0390\n",
            "Epoch [7/10], Step [200/600], Loss: 0.0049\n",
            "Epoch [7/10], Step [300/600], Loss: 0.0100\n",
            "Epoch [7/10], Step [400/600], Loss: 0.2486\n",
            "Epoch [7/10], Step [500/600], Loss: 0.0507\n",
            "Epoch [7/10], Step [600/600], Loss: 0.0390\n",
            "Epoch [8/10], Step [100/600], Loss: 0.0190\n",
            "Epoch [8/10], Step [200/600], Loss: 0.0321\n",
            "Epoch [8/10], Step [300/600], Loss: 0.0805\n",
            "Epoch [8/10], Step [400/600], Loss: 0.0007\n",
            "Epoch [8/10], Step [500/600], Loss: 0.0007\n",
            "Epoch [8/10], Step [600/600], Loss: 0.0030\n",
            "Epoch [9/10], Step [100/600], Loss: 0.0537\n",
            "Epoch [9/10], Step [200/600], Loss: 0.0757\n",
            "Epoch [9/10], Step [300/600], Loss: 0.0063\n",
            "Epoch [9/10], Step [400/600], Loss: 0.0290\n",
            "Epoch [9/10], Step [500/600], Loss: 0.0285\n",
            "Epoch [9/10], Step [600/600], Loss: 0.1638\n",
            "Epoch [10/10], Step [100/600], Loss: 0.0893\n",
            "Epoch [10/10], Step [200/600], Loss: 0.1019\n",
            "Epoch [10/10], Step [300/600], Loss: 0.0240\n",
            "Epoch [10/10], Step [400/600], Loss: 0.0455\n",
            "Epoch [10/10], Step [500/600], Loss: 0.0032\n",
            "Epoch [10/10], Step [600/600], Loss: 0.0163\n"
          ]
        }
      ]
    },
    {
      "cell_type": "code",
      "source": [
        "def test():\n",
        "    # Test the model\n",
        "    cnn.eval()\n",
        "    with torch.no_grad():\n",
        "        correct = 0\n",
        "        total = 0\n",
        "        for images, labels in loaders['test']:\n",
        "            test_output, last_layer = cnn(images)\n",
        "            pred_y = torch.max(test_output, 1)[1].data.squeeze()\n",
        "            accuracy = (pred_y == labels).sum().item() / float(labels.size(0))\n",
        "            pass\n",
        "        print('Test Accuracy of the model on the 10000 test images: %.2f' % accuracy)\n",
        "\n",
        "    pass\n",
        "test()"
      ],
      "metadata": {
        "colab": {
          "base_uri": "https://localhost:8080/"
        },
        "id": "PpdE_tmI92rB",
        "outputId": "105d44d4-bb05-4b59-eefb-26436c0e924f"
      },
      "execution_count": null,
      "outputs": [
        {
          "output_type": "stream",
          "name": "stdout",
          "text": [
            "Test Accuracy of the model on the 10000 test images: 1.00\n"
          ]
        }
      ]
    },
    {
      "cell_type": "code",
      "source": [
        "sample = next(iter(loaders['test']))\n",
        "imgs, lbls = sample\n",
        "\n",
        "actual_number = lbls[:10].numpy()\n",
        "actual_number\n"
      ],
      "metadata": {
        "colab": {
          "base_uri": "https://localhost:8080/"
        },
        "id": "4b77wc88-MHD",
        "outputId": "d325dac8-4d92-4ca2-daf5-f04139747664"
      },
      "execution_count": null,
      "outputs": [
        {
          "output_type": "execute_result",
          "data": {
            "text/plain": [
              "array([3, 2, 6, 8, 5, 1, 5, 0, 1, 4])"
            ]
          },
          "metadata": {},
          "execution_count": 14
        }
      ]
    },
    {
      "cell_type": "code",
      "source": [
        "test_output, last_layer = cnn(imgs[:10])\n",
        "pred_y = torch.max(test_output, 1)[1].data.numpy().squeeze()\n",
        "print(f'Prediction number: {pred_y}')\n",
        "print(f'Actual number: {actual_number}')"
      ],
      "metadata": {
        "id": "0KAWvX6u_b3B",
        "outputId": "fba0baf4-7921-4c5f-d5a5-d07f924c0fd3",
        "colab": {
          "base_uri": "https://localhost:8080/"
        }
      },
      "execution_count": null,
      "outputs": [
        {
          "output_type": "stream",
          "name": "stdout",
          "text": [
            "Prediction number: [3 2 6 8 5 1 5 0 1 4]\n",
            "Actual number: [3 2 6 8 5 1 5 0 1 4]\n"
          ]
        }
      ]
    }
  ]
}